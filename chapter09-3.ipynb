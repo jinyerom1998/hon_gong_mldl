{
  "nbformat": 4,
  "nbformat_minor": 0,
  "metadata": {
    "colab": {
      "provenance": [],
      "authorship_tag": "ABX9TyM9b7M6fIfN8EIygsCOWHP9"
    },
    "kernelspec": {
      "name": "python3",
      "display_name": "Python 3"
    },
    "language_info": {
      "name": "python"
    }
  },
  "cells": [
    {
      "cell_type": "code",
      "execution_count": 1,
      "metadata": {
        "id": "2mM_uC32aGUp"
      },
      "outputs": [],
      "source": [
        "from tensorflow.keras.datasets import imdb\n",
        "from sklearn.model_selection import train_test_split\n",
        "(train_input, train_target), (test_input, test_target) = imdb.load_data(num_words=500)\n",
        "train_input, val_input, train_target, val_target = train_test_split(train_input, train_target, test_size=0.2, random_state=42)"
      ]
    },
    {
      "cell_type": "code",
      "source": [
        "from tensorflow.keras.preprocessing.sequence import pad_sequences\n",
        "train_seq = pad_sequences(train_input, maxlen=100)\n",
        "val_seq = pad_sequences(val_input, maxlen=100)"
      ],
      "metadata": {
        "id": "gt8EVjVDeE15"
      },
      "execution_count": 2,
      "outputs": []
    },
    {
      "cell_type": "code",
      "source": [
        "from tensorflow import keras\n",
        "model = keras.Sequential()\n",
        "model.add(keras.layers.Embedding(500, 16, input_length=100))\n",
        "model.add(keras.layers.LSTM(8))\n",
        "model.add(keras.layers.Dense(1, activation='sigmoid'))"
      ],
      "metadata": {
        "id": "tOsPu8sseWR9"
      },
      "execution_count": 3,
      "outputs": []
    },
    {
      "cell_type": "code",
      "source": [
        "model.summary()"
      ],
      "metadata": {
        "colab": {
          "base_uri": "https://localhost:8080/"
        },
        "id": "-zf8aUIeerFt",
        "outputId": "ffedbe58-fdd7-4ef4-b692-6ea7468a39f7"
      },
      "execution_count": 4,
      "outputs": [
        {
          "output_type": "stream",
          "name": "stdout",
          "text": [
            "Model: \"sequential\"\n",
            "_________________________________________________________________\n",
            " Layer (type)                Output Shape              Param #   \n",
            "=================================================================\n",
            " embedding (Embedding)       (None, 100, 16)           8000      \n",
            "                                                                 \n",
            " lstm (LSTM)                 (None, 8)                 800       \n",
            "                                                                 \n",
            " dense (Dense)               (None, 1)                 9         \n",
            "                                                                 \n",
            "=================================================================\n",
            "Total params: 8809 (34.41 KB)\n",
            "Trainable params: 8809 (34.41 KB)\n",
            "Non-trainable params: 0 (0.00 Byte)\n",
            "_________________________________________________________________\n"
          ]
        }
      ]
    },
    {
      "cell_type": "code",
      "source": [
        "rmsprop = keras.optimizers.RMSprop(learning_rate=1e-4)\n",
        "model.compile(optimizer=rmsprop, loss='binary_crossentropy', metrics=['accuracy'])\n",
        "checkpoint_cb = keras.callbacks.ModelCheckpoint('best-lstm-model.h5', save_best_only=True)\n",
        "early_stopping_cb = keras.callbacks.EarlyStopping(patience=3, restore_best_weights=True)\n",
        "history = model.fit(train_seq, train_target, epochs=100, batch_size=256, validation_data=(val_seq, val_target), callbacks=[checkpoint_cb, early_stopping_cb]) # 교재에서는 배치사이즈 64"
      ],
      "metadata": {
        "colab": {
          "base_uri": "https://localhost:8080/"
        },
        "id": "GZEhdOpjesKx",
        "outputId": "7fac28fc-6121-40a3-9c4c-1a12c5565cc3"
      },
      "execution_count": 5,
      "outputs": [
        {
          "output_type": "stream",
          "name": "stdout",
          "text": [
            "Epoch 1/100\n",
            "79/79 [==============================] - 13s 95ms/step - loss: 0.6931 - accuracy: 0.5045 - val_loss: 0.6930 - val_accuracy: 0.5148\n",
            "Epoch 2/100\n",
            " 1/79 [..............................] - ETA: 7s - loss: 0.6932 - accuracy: 0.4766"
          ]
        },
        {
          "output_type": "stream",
          "name": "stderr",
          "text": [
            "/usr/local/lib/python3.10/dist-packages/keras/src/engine/training.py:3000: UserWarning: You are saving your model as an HDF5 file via `model.save()`. This file format is considered legacy. We recommend using instead the native Keras format, e.g. `model.save('my_model.keras')`.\n",
            "  saving_api.save_model(\n"
          ]
        },
        {
          "output_type": "stream",
          "name": "stdout",
          "text": [
            "79/79 [==============================] - 5s 62ms/step - loss: 0.6928 - accuracy: 0.5286 - val_loss: 0.6927 - val_accuracy: 0.5350\n",
            "Epoch 3/100\n",
            "79/79 [==============================] - 5s 61ms/step - loss: 0.6925 - accuracy: 0.5559 - val_loss: 0.6924 - val_accuracy: 0.5420\n",
            "Epoch 4/100\n",
            "79/79 [==============================] - 6s 78ms/step - loss: 0.6921 - accuracy: 0.5630 - val_loss: 0.6920 - val_accuracy: 0.5598\n",
            "Epoch 5/100\n",
            "79/79 [==============================] - 5s 58ms/step - loss: 0.6916 - accuracy: 0.5778 - val_loss: 0.6914 - val_accuracy: 0.5922\n",
            "Epoch 6/100\n",
            "79/79 [==============================] - 5s 70ms/step - loss: 0.6909 - accuracy: 0.6097 - val_loss: 0.6906 - val_accuracy: 0.6092\n",
            "Epoch 7/100\n",
            "79/79 [==============================] - 5s 59ms/step - loss: 0.6900 - accuracy: 0.6199 - val_loss: 0.6895 - val_accuracy: 0.6250\n",
            "Epoch 8/100\n",
            "79/79 [==============================] - 7s 89ms/step - loss: 0.6886 - accuracy: 0.6319 - val_loss: 0.6880 - val_accuracy: 0.6214\n",
            "Epoch 9/100\n",
            "79/79 [==============================] - 10s 120ms/step - loss: 0.6867 - accuracy: 0.6395 - val_loss: 0.6858 - val_accuracy: 0.6288\n",
            "Epoch 10/100\n",
            "79/79 [==============================] - 10s 126ms/step - loss: 0.6838 - accuracy: 0.6470 - val_loss: 0.6824 - val_accuracy: 0.6396\n",
            "Epoch 11/100\n",
            "79/79 [==============================] - 12s 148ms/step - loss: 0.6793 - accuracy: 0.6607 - val_loss: 0.6770 - val_accuracy: 0.6506\n",
            "Epoch 12/100\n",
            "79/79 [==============================] - 12s 147ms/step - loss: 0.6719 - accuracy: 0.6693 - val_loss: 0.6680 - val_accuracy: 0.6680\n",
            "Epoch 13/100\n",
            "79/79 [==============================] - 9s 119ms/step - loss: 0.6592 - accuracy: 0.6846 - val_loss: 0.6516 - val_accuracy: 0.6930\n",
            "Epoch 14/100\n",
            "79/79 [==============================] - 9s 113ms/step - loss: 0.6374 - accuracy: 0.6987 - val_loss: 0.6263 - val_accuracy: 0.6980\n",
            "Epoch 15/100\n",
            "79/79 [==============================] - 7s 94ms/step - loss: 0.6125 - accuracy: 0.7035 - val_loss: 0.6061 - val_accuracy: 0.7014\n",
            "Epoch 16/100\n",
            "79/79 [==============================] - 4s 56ms/step - loss: 0.5967 - accuracy: 0.7060 - val_loss: 0.5942 - val_accuracy: 0.7136\n",
            "Epoch 17/100\n",
            "79/79 [==============================] - 4s 55ms/step - loss: 0.5845 - accuracy: 0.7165 - val_loss: 0.5838 - val_accuracy: 0.7116\n",
            "Epoch 18/100\n",
            "79/79 [==============================] - 6s 74ms/step - loss: 0.5737 - accuracy: 0.7239 - val_loss: 0.5732 - val_accuracy: 0.7262\n",
            "Epoch 19/100\n",
            "79/79 [==============================] - 4s 55ms/step - loss: 0.5636 - accuracy: 0.7334 - val_loss: 0.5650 - val_accuracy: 0.7328\n",
            "Epoch 20/100\n",
            "79/79 [==============================] - 5s 61ms/step - loss: 0.5544 - accuracy: 0.7411 - val_loss: 0.5568 - val_accuracy: 0.7336\n",
            "Epoch 21/100\n",
            "79/79 [==============================] - 5s 68ms/step - loss: 0.5458 - accuracy: 0.7487 - val_loss: 0.5474 - val_accuracy: 0.7412\n",
            "Epoch 22/100\n",
            "79/79 [==============================] - 4s 57ms/step - loss: 0.5375 - accuracy: 0.7556 - val_loss: 0.5400 - val_accuracy: 0.7454\n",
            "Epoch 23/100\n",
            "79/79 [==============================] - 6s 73ms/step - loss: 0.5297 - accuracy: 0.7592 - val_loss: 0.5348 - val_accuracy: 0.7498\n",
            "Epoch 24/100\n",
            "79/79 [==============================] - 5s 57ms/step - loss: 0.5225 - accuracy: 0.7638 - val_loss: 0.5262 - val_accuracy: 0.7504\n",
            "Epoch 25/100\n",
            "79/79 [==============================] - 5s 57ms/step - loss: 0.5154 - accuracy: 0.7667 - val_loss: 0.5197 - val_accuracy: 0.7578\n",
            "Epoch 26/100\n",
            "79/79 [==============================] - 6s 73ms/step - loss: 0.5090 - accuracy: 0.7707 - val_loss: 0.5168 - val_accuracy: 0.7624\n",
            "Epoch 27/100\n",
            "79/79 [==============================] - 5s 62ms/step - loss: 0.5029 - accuracy: 0.7745 - val_loss: 0.5079 - val_accuracy: 0.7682\n",
            "Epoch 28/100\n",
            "79/79 [==============================] - 5s 67ms/step - loss: 0.4967 - accuracy: 0.7782 - val_loss: 0.5028 - val_accuracy: 0.7708\n",
            "Epoch 29/100\n",
            "79/79 [==============================] - 5s 65ms/step - loss: 0.4910 - accuracy: 0.7810 - val_loss: 0.4975 - val_accuracy: 0.7734\n",
            "Epoch 30/100\n",
            "79/79 [==============================] - 5s 60ms/step - loss: 0.4854 - accuracy: 0.7839 - val_loss: 0.4930 - val_accuracy: 0.7762\n",
            "Epoch 31/100\n",
            "79/79 [==============================] - 6s 73ms/step - loss: 0.4803 - accuracy: 0.7886 - val_loss: 0.4914 - val_accuracy: 0.7738\n",
            "Epoch 32/100\n",
            "79/79 [==============================] - 5s 70ms/step - loss: 0.4755 - accuracy: 0.7903 - val_loss: 0.4847 - val_accuracy: 0.7768\n",
            "Epoch 33/100\n",
            "79/79 [==============================] - 6s 74ms/step - loss: 0.4709 - accuracy: 0.7940 - val_loss: 0.4831 - val_accuracy: 0.7764\n",
            "Epoch 34/100\n",
            "79/79 [==============================] - 5s 62ms/step - loss: 0.4667 - accuracy: 0.7952 - val_loss: 0.4795 - val_accuracy: 0.7760\n",
            "Epoch 35/100\n",
            "79/79 [==============================] - 5s 61ms/step - loss: 0.4629 - accuracy: 0.7973 - val_loss: 0.4744 - val_accuracy: 0.7820\n",
            "Epoch 36/100\n",
            "79/79 [==============================] - 6s 74ms/step - loss: 0.4589 - accuracy: 0.8002 - val_loss: 0.4713 - val_accuracy: 0.7844\n",
            "Epoch 37/100\n",
            "79/79 [==============================] - 5s 63ms/step - loss: 0.4553 - accuracy: 0.8015 - val_loss: 0.4696 - val_accuracy: 0.7818\n",
            "Epoch 38/100\n",
            "79/79 [==============================] - 6s 78ms/step - loss: 0.4521 - accuracy: 0.8025 - val_loss: 0.4666 - val_accuracy: 0.7834\n",
            "Epoch 39/100\n",
            "79/79 [==============================] - 4s 56ms/step - loss: 0.4492 - accuracy: 0.8049 - val_loss: 0.4630 - val_accuracy: 0.7870\n",
            "Epoch 40/100\n",
            "79/79 [==============================] - 4s 55ms/step - loss: 0.4463 - accuracy: 0.8044 - val_loss: 0.4620 - val_accuracy: 0.7866\n",
            "Epoch 41/100\n",
            "79/79 [==============================] - 6s 74ms/step - loss: 0.4435 - accuracy: 0.8064 - val_loss: 0.4586 - val_accuracy: 0.7932\n",
            "Epoch 42/100\n",
            "79/79 [==============================] - 6s 71ms/step - loss: 0.4413 - accuracy: 0.8073 - val_loss: 0.4578 - val_accuracy: 0.7896\n",
            "Epoch 43/100\n",
            "79/79 [==============================] - 6s 74ms/step - loss: 0.4388 - accuracy: 0.8084 - val_loss: 0.4546 - val_accuracy: 0.7918\n",
            "Epoch 44/100\n",
            "79/79 [==============================] - 5s 59ms/step - loss: 0.4370 - accuracy: 0.8084 - val_loss: 0.4540 - val_accuracy: 0.7930\n",
            "Epoch 45/100\n",
            "79/79 [==============================] - 5s 63ms/step - loss: 0.4350 - accuracy: 0.8091 - val_loss: 0.4544 - val_accuracy: 0.7908\n",
            "Epoch 46/100\n",
            "79/79 [==============================] - 6s 78ms/step - loss: 0.4332 - accuracy: 0.8097 - val_loss: 0.4528 - val_accuracy: 0.7942\n",
            "Epoch 47/100\n",
            "79/79 [==============================] - 4s 57ms/step - loss: 0.4317 - accuracy: 0.8094 - val_loss: 0.4489 - val_accuracy: 0.7958\n",
            "Epoch 48/100\n",
            "79/79 [==============================] - 11s 145ms/step - loss: 0.4302 - accuracy: 0.8109 - val_loss: 0.4480 - val_accuracy: 0.7962\n",
            "Epoch 49/100\n",
            "79/79 [==============================] - 9s 116ms/step - loss: 0.4284 - accuracy: 0.8113 - val_loss: 0.4469 - val_accuracy: 0.7970\n",
            "Epoch 50/100\n",
            "79/79 [==============================] - 9s 107ms/step - loss: 0.4271 - accuracy: 0.8117 - val_loss: 0.4473 - val_accuracy: 0.7950\n",
            "Epoch 51/100\n",
            "79/79 [==============================] - 11s 138ms/step - loss: 0.4260 - accuracy: 0.8128 - val_loss: 0.4464 - val_accuracy: 0.7974\n",
            "Epoch 52/100\n",
            "79/79 [==============================] - 10s 121ms/step - loss: 0.4248 - accuracy: 0.8116 - val_loss: 0.4443 - val_accuracy: 0.7988\n",
            "Epoch 53/100\n",
            "79/79 [==============================] - 9s 108ms/step - loss: 0.4239 - accuracy: 0.8134 - val_loss: 0.4451 - val_accuracy: 0.7948\n",
            "Epoch 54/100\n",
            "79/79 [==============================] - 8s 107ms/step - loss: 0.4228 - accuracy: 0.8130 - val_loss: 0.4429 - val_accuracy: 0.7988\n",
            "Epoch 55/100\n",
            "79/79 [==============================] - 9s 111ms/step - loss: 0.4217 - accuracy: 0.8141 - val_loss: 0.4425 - val_accuracy: 0.7986\n",
            "Epoch 56/100\n",
            "79/79 [==============================] - 9s 113ms/step - loss: 0.4211 - accuracy: 0.8140 - val_loss: 0.4422 - val_accuracy: 0.7988\n",
            "Epoch 57/100\n",
            "79/79 [==============================] - 8s 104ms/step - loss: 0.4202 - accuracy: 0.8132 - val_loss: 0.4423 - val_accuracy: 0.7984\n",
            "Epoch 58/100\n",
            "79/79 [==============================] - 5s 69ms/step - loss: 0.4194 - accuracy: 0.8141 - val_loss: 0.4419 - val_accuracy: 0.7970\n",
            "Epoch 59/100\n",
            "79/79 [==============================] - 5s 61ms/step - loss: 0.4186 - accuracy: 0.8135 - val_loss: 0.4398 - val_accuracy: 0.7984\n",
            "Epoch 60/100\n",
            "79/79 [==============================] - 5s 59ms/step - loss: 0.4181 - accuracy: 0.8154 - val_loss: 0.4424 - val_accuracy: 0.7964\n",
            "Epoch 61/100\n",
            "79/79 [==============================] - 6s 72ms/step - loss: 0.4177 - accuracy: 0.8148 - val_loss: 0.4410 - val_accuracy: 0.7984\n",
            "Epoch 62/100\n",
            "79/79 [==============================] - 5s 57ms/step - loss: 0.4167 - accuracy: 0.8151 - val_loss: 0.4447 - val_accuracy: 0.7950\n"
          ]
        }
      ]
    },
    {
      "cell_type": "code",
      "source": [
        "import matplotlib.pyplot as plt\n",
        "plt.plot(history.history['loss'])\n",
        "plt.plot(history.history['val_loss'])\n",
        "plt.xlabel('epoch')\n",
        "plt.ylabel('loss')\n",
        "plt.legend(['train', 'val'])\n",
        "plt.show()"
      ],
      "metadata": {
        "colab": {
          "base_uri": "https://localhost:8080/",
          "height": 449
        },
        "id": "6gZ9K6O6fvwF",
        "outputId": "3c40d2a7-4e4c-4295-9fc5-f1b40cae64f8"
      },
      "execution_count": 6,
      "outputs": [
        {
          "output_type": "display_data",
          "data": {
            "text/plain": [
              "<Figure size 640x480 with 1 Axes>"
            ],
            "image/png": "[encoded data removed]"
          },
          "metadata": {}
        }
      ]
    },
    {
      "cell_type": "code",
      "source": [
        "model2 = keras.Sequential()\n",
        "model2.add(keras.layers.Embedding(500, 16, input_length=100))\n",
        "model2.add(keras.layers.LSTM(8, dropout=0.3))\n",
        "model2.add(keras.layers.Dense(1, activation='sigmoid'))"
      ],
      "metadata": {
        "id": "kiJCDHobhN9D"
      },
      "execution_count": 7,
      "outputs": []
    },
    {
      "cell_type": "code",
      "source": [
        "rmsprop = keras.optimizers.RMSprop(learning_rate=1e-4)\n",
        "model2.compile(optimizer=rmsprop, loss='binary_crossentropy', metrics=['accuracy'])\n",
        "checkpoint_cb = keras.callbacks.ModelCheckpoint('best-dropout-model.h5', save_best_only=True)\n",
        "early_stopping_cb = keras.callbacks.EarlyStopping(patience=3, restore_best_weights=True)\n",
        "history = model2.fit(train_seq, train_target, epochs=100, batch_size=256, validation_data=(val_seq, val_target), callbacks=[checkpoint_cb, early_stopping_cb]) # 교재에서는 배치사이즈 64"
      ],
      "metadata": {
        "colab": {
          "base_uri": "https://localhost:8080/"
        },
        "id": "uGwnhzGfk8U7",
        "outputId": "deface5e-7976-4d93-9b59-320a2fb0ece2"
      },
      "execution_count": 8,
      "outputs": [
        {
          "output_type": "stream",
          "name": "stdout",
          "text": [
            "Epoch 1/100\n",
            "79/79 [==============================] - 9s 90ms/step - loss: 0.6929 - accuracy: 0.5084 - val_loss: 0.6930 - val_accuracy: 0.5160\n",
            "Epoch 2/100\n",
            "79/79 [==============================] - 6s 73ms/step - loss: 0.6926 - accuracy: 0.5336 - val_loss: 0.6928 - val_accuracy: 0.5300\n",
            "Epoch 3/100\n",
            "79/79 [==============================] - 9s 116ms/step - loss: 0.6924 - accuracy: 0.5468 - val_loss: 0.6926 - val_accuracy: 0.5380\n",
            "Epoch 4/100\n",
            "79/79 [==============================] - 5s 66ms/step - loss: 0.6921 - accuracy: 0.5516 - val_loss: 0.6923 - val_accuracy: 0.5434\n",
            "Epoch 5/100\n",
            "79/79 [==============================] - 6s 74ms/step - loss: 0.6918 - accuracy: 0.5692 - val_loss: 0.6920 - val_accuracy: 0.5610\n",
            "Epoch 6/100\n",
            "79/79 [==============================] - 6s 71ms/step - loss: 0.6915 - accuracy: 0.5754 - val_loss: 0.6917 - val_accuracy: 0.5678\n",
            "Epoch 7/100\n",
            "79/79 [==============================] - 8s 107ms/step - loss: 0.6910 - accuracy: 0.5817 - val_loss: 0.6912 - val_accuracy: 0.5776\n",
            "Epoch 8/100\n",
            "79/79 [==============================] - 5s 62ms/step - loss: 0.6905 - accuracy: 0.5918 - val_loss: 0.6907 - val_accuracy: 0.5844\n",
            "Epoch 9/100\n",
            "79/79 [==============================] - 5s 67ms/step - loss: 0.6899 - accuracy: 0.5896 - val_loss: 0.6901 - val_accuracy: 0.5886\n",
            "Epoch 10/100\n",
            "79/79 [==============================] - 12s 152ms/step - loss: 0.6892 - accuracy: 0.6024 - val_loss: 0.6893 - val_accuracy: 0.5980\n",
            "Epoch 11/100\n",
            "79/79 [==============================] - 8s 103ms/step - loss: 0.6882 - accuracy: 0.6095 - val_loss: 0.6882 - val_accuracy: 0.6010\n",
            "Epoch 12/100\n",
            "79/79 [==============================] - 6s 77ms/step - loss: 0.6871 - accuracy: 0.6175 - val_loss: 0.6870 - val_accuracy: 0.6062\n",
            "Epoch 13/100\n",
            "79/79 [==============================] - 6s 75ms/step - loss: 0.6856 - accuracy: 0.6204 - val_loss: 0.6853 - val_accuracy: 0.6160\n",
            "Epoch 14/100\n",
            "79/79 [==============================] - 5s 69ms/step - loss: 0.6836 - accuracy: 0.6303 - val_loss: 0.6831 - val_accuracy: 0.6332\n",
            "Epoch 15/100\n",
            "79/79 [==============================] - 8s 103ms/step - loss: 0.6808 - accuracy: 0.6426 - val_loss: 0.6801 - val_accuracy: 0.6424\n",
            "Epoch 16/100\n",
            "79/79 [==============================] - 5s 64ms/step - loss: 0.6772 - accuracy: 0.6553 - val_loss: 0.6757 - val_accuracy: 0.6550\n",
            "Epoch 17/100\n",
            "79/79 [==============================] - 7s 83ms/step - loss: 0.6717 - accuracy: 0.6683 - val_loss: 0.6688 - val_accuracy: 0.6742\n",
            "Epoch 18/100\n",
            "79/79 [==============================] - 6s 79ms/step - loss: 0.6631 - accuracy: 0.6852 - val_loss: 0.6582 - val_accuracy: 0.6906\n",
            "Epoch 19/100\n",
            "79/79 [==============================] - 7s 90ms/step - loss: 0.6501 - accuracy: 0.7010 - val_loss: 0.6429 - val_accuracy: 0.7032\n",
            "Epoch 20/100\n",
            "79/79 [==============================] - 6s 75ms/step - loss: 0.6327 - accuracy: 0.7079 - val_loss: 0.6250 - val_accuracy: 0.7054\n",
            "Epoch 21/100\n",
            "79/79 [==============================] - 6s 79ms/step - loss: 0.6175 - accuracy: 0.7082 - val_loss: 0.6129 - val_accuracy: 0.7060\n",
            "Epoch 22/100\n",
            "79/79 [==============================] - 6s 77ms/step - loss: 0.6082 - accuracy: 0.7099 - val_loss: 0.6051 - val_accuracy: 0.7088\n",
            "Epoch 23/100\n",
            "79/79 [==============================] - 7s 83ms/step - loss: 0.6006 - accuracy: 0.7151 - val_loss: 0.5973 - val_accuracy: 0.7186\n",
            "Epoch 24/100\n",
            "79/79 [==============================] - 5s 69ms/step - loss: 0.5926 - accuracy: 0.7220 - val_loss: 0.5894 - val_accuracy: 0.7270\n",
            "Epoch 25/100\n",
            "79/79 [==============================] - 6s 75ms/step - loss: 0.5855 - accuracy: 0.7290 - val_loss: 0.5822 - val_accuracy: 0.7316\n",
            "Epoch 26/100\n",
            "79/79 [==============================] - 5s 66ms/step - loss: 0.5761 - accuracy: 0.7351 - val_loss: 0.5742 - val_accuracy: 0.7372\n",
            "Epoch 27/100\n",
            "79/79 [==============================] - 6s 72ms/step - loss: 0.5699 - accuracy: 0.7412 - val_loss: 0.5665 - val_accuracy: 0.7428\n",
            "Epoch 28/100\n",
            "79/79 [==============================] - 6s 82ms/step - loss: 0.5619 - accuracy: 0.7442 - val_loss: 0.5599 - val_accuracy: 0.7474\n",
            "Epoch 29/100\n",
            "79/79 [==============================] - 5s 66ms/step - loss: 0.5545 - accuracy: 0.7494 - val_loss: 0.5530 - val_accuracy: 0.7536\n",
            "Epoch 30/100\n",
            "79/79 [==============================] - 7s 85ms/step - loss: 0.5478 - accuracy: 0.7529 - val_loss: 0.5445 - val_accuracy: 0.7578\n",
            "Epoch 31/100\n",
            "79/79 [==============================] - 5s 68ms/step - loss: 0.5394 - accuracy: 0.7621 - val_loss: 0.5374 - val_accuracy: 0.7584\n",
            "Epoch 32/100\n",
            "79/79 [==============================] - 7s 83ms/step - loss: 0.5321 - accuracy: 0.7620 - val_loss: 0.5315 - val_accuracy: 0.7630\n",
            "Epoch 33/100\n",
            "79/79 [==============================] - 5s 66ms/step - loss: 0.5257 - accuracy: 0.7655 - val_loss: 0.5242 - val_accuracy: 0.7634\n",
            "Epoch 34/100\n",
            "79/79 [==============================] - 6s 79ms/step - loss: 0.5178 - accuracy: 0.7697 - val_loss: 0.5178 - val_accuracy: 0.7660\n",
            "Epoch 35/100\n",
            "79/79 [==============================] - 5s 63ms/step - loss: 0.5121 - accuracy: 0.7720 - val_loss: 0.5131 - val_accuracy: 0.7666\n",
            "Epoch 36/100\n",
            "79/79 [==============================] - 5s 69ms/step - loss: 0.5056 - accuracy: 0.7767 - val_loss: 0.5063 - val_accuracy: 0.7742\n",
            "Epoch 37/100\n",
            "79/79 [==============================] - 6s 76ms/step - loss: 0.4996 - accuracy: 0.7791 - val_loss: 0.5003 - val_accuracy: 0.7780\n",
            "Epoch 38/100\n",
            "79/79 [==============================] - 5s 65ms/step - loss: 0.4928 - accuracy: 0.7832 - val_loss: 0.4955 - val_accuracy: 0.7778\n",
            "Epoch 39/100\n",
            "79/79 [==============================] - 7s 85ms/step - loss: 0.4877 - accuracy: 0.7857 - val_loss: 0.4907 - val_accuracy: 0.7814\n",
            "Epoch 40/100\n",
            "79/79 [==============================] - 5s 65ms/step - loss: 0.4825 - accuracy: 0.7864 - val_loss: 0.4860 - val_accuracy: 0.7850\n",
            "Epoch 41/100\n",
            "79/79 [==============================] - 6s 81ms/step - loss: 0.4789 - accuracy: 0.7879 - val_loss: 0.4810 - val_accuracy: 0.7854\n",
            "Epoch 42/100\n",
            "79/79 [==============================] - 5s 63ms/step - loss: 0.4746 - accuracy: 0.7910 - val_loss: 0.4777 - val_accuracy: 0.7850\n",
            "Epoch 43/100\n",
            "79/79 [==============================] - 5s 67ms/step - loss: 0.4705 - accuracy: 0.7907 - val_loss: 0.4736 - val_accuracy: 0.7890\n",
            "Epoch 44/100\n",
            "79/79 [==============================] - 6s 75ms/step - loss: 0.4656 - accuracy: 0.7949 - val_loss: 0.4714 - val_accuracy: 0.7916\n",
            "Epoch 45/100\n",
            "79/79 [==============================] - 5s 65ms/step - loss: 0.4630 - accuracy: 0.7978 - val_loss: 0.4672 - val_accuracy: 0.7904\n",
            "Epoch 46/100\n",
            "79/79 [==============================] - 7s 91ms/step - loss: 0.4588 - accuracy: 0.7983 - val_loss: 0.4649 - val_accuracy: 0.7900\n",
            "Epoch 47/100\n",
            "79/79 [==============================] - 5s 68ms/step - loss: 0.4559 - accuracy: 0.7982 - val_loss: 0.4625 - val_accuracy: 0.7900\n",
            "Epoch 48/100\n",
            "79/79 [==============================] - 6s 80ms/step - loss: 0.4535 - accuracy: 0.7993 - val_loss: 0.4601 - val_accuracy: 0.7924\n",
            "Epoch 49/100\n",
            "79/79 [==============================] - 5s 69ms/step - loss: 0.4508 - accuracy: 0.8006 - val_loss: 0.4573 - val_accuracy: 0.7948\n",
            "Epoch 50/100\n",
            "79/79 [==============================] - 6s 80ms/step - loss: 0.4484 - accuracy: 0.8004 - val_loss: 0.4553 - val_accuracy: 0.7962\n",
            "Epoch 51/100\n",
            "79/79 [==============================] - 5s 68ms/step - loss: 0.4465 - accuracy: 0.8027 - val_loss: 0.4532 - val_accuracy: 0.7974\n",
            "Epoch 52/100\n",
            "79/79 [==============================] - 5s 69ms/step - loss: 0.4445 - accuracy: 0.8043 - val_loss: 0.4547 - val_accuracy: 0.7954\n",
            "Epoch 53/100\n",
            "79/79 [==============================] - 6s 71ms/step - loss: 0.4442 - accuracy: 0.8045 - val_loss: 0.4505 - val_accuracy: 0.7966\n",
            "Epoch 54/100\n",
            "79/79 [==============================] - 5s 67ms/step - loss: 0.4408 - accuracy: 0.8045 - val_loss: 0.4494 - val_accuracy: 0.7976\n",
            "Epoch 55/100\n",
            "79/79 [==============================] - 6s 80ms/step - loss: 0.4400 - accuracy: 0.8048 - val_loss: 0.4475 - val_accuracy: 0.7960\n",
            "Epoch 56/100\n",
            "79/79 [==============================] - 5s 65ms/step - loss: 0.4386 - accuracy: 0.8059 - val_loss: 0.4462 - val_accuracy: 0.7982\n",
            "Epoch 57/100\n",
            "79/79 [==============================] - 6s 81ms/step - loss: 0.4375 - accuracy: 0.8063 - val_loss: 0.4453 - val_accuracy: 0.7992\n",
            "Epoch 58/100\n",
            "79/79 [==============================] - 5s 64ms/step - loss: 0.4346 - accuracy: 0.8066 - val_loss: 0.4458 - val_accuracy: 0.7976\n",
            "Epoch 59/100\n",
            "79/79 [==============================] - 6s 70ms/step - loss: 0.4329 - accuracy: 0.8077 - val_loss: 0.4436 - val_accuracy: 0.7990\n",
            "Epoch 60/100\n",
            "79/79 [==============================] - 6s 72ms/step - loss: 0.4319 - accuracy: 0.8094 - val_loss: 0.4444 - val_accuracy: 0.8008\n",
            "Epoch 61/100\n",
            "79/79 [==============================] - 5s 67ms/step - loss: 0.4330 - accuracy: 0.8058 - val_loss: 0.4420 - val_accuracy: 0.8008\n",
            "Epoch 62/100\n",
            "79/79 [==============================] - 7s 83ms/step - loss: 0.4290 - accuracy: 0.8106 - val_loss: 0.4434 - val_accuracy: 0.7966\n",
            "Epoch 63/100\n",
            "79/79 [==============================] - 5s 61ms/step - loss: 0.4289 - accuracy: 0.8082 - val_loss: 0.4452 - val_accuracy: 0.7984\n",
            "Epoch 64/100\n",
            "79/79 [==============================] - 7s 83ms/step - loss: 0.4293 - accuracy: 0.8091 - val_loss: 0.4418 - val_accuracy: 0.7974\n",
            "Epoch 65/100\n",
            "79/79 [==============================] - 5s 63ms/step - loss: 0.4290 - accuracy: 0.8080 - val_loss: 0.4398 - val_accuracy: 0.7968\n",
            "Epoch 66/100\n",
            "79/79 [==============================] - 6s 76ms/step - loss: 0.4260 - accuracy: 0.8102 - val_loss: 0.4380 - val_accuracy: 0.7990\n",
            "Epoch 67/100\n",
            "79/79 [==============================] - 5s 67ms/step - loss: 0.4254 - accuracy: 0.8103 - val_loss: 0.4378 - val_accuracy: 0.7988\n",
            "Epoch 68/100\n",
            "79/79 [==============================] - 5s 63ms/step - loss: 0.4264 - accuracy: 0.8094 - val_loss: 0.4376 - val_accuracy: 0.8002\n",
            "Epoch 69/100\n",
            "79/79 [==============================] - 6s 80ms/step - loss: 0.4231 - accuracy: 0.8095 - val_loss: 0.4383 - val_accuracy: 0.8044\n",
            "Epoch 70/100\n",
            "79/79 [==============================] - 5s 65ms/step - loss: 0.4248 - accuracy: 0.8084 - val_loss: 0.4363 - val_accuracy: 0.8030\n",
            "Epoch 71/100\n",
            "79/79 [==============================] - 7s 84ms/step - loss: 0.4229 - accuracy: 0.8127 - val_loss: 0.4364 - val_accuracy: 0.8040\n",
            "Epoch 72/100\n",
            "79/79 [==============================] - 5s 65ms/step - loss: 0.4226 - accuracy: 0.8101 - val_loss: 0.4374 - val_accuracy: 0.7974\n",
            "Epoch 73/100\n",
            "79/79 [==============================] - 6s 78ms/step - loss: 0.4224 - accuracy: 0.8104 - val_loss: 0.4346 - val_accuracy: 0.8012\n",
            "Epoch 74/100\n",
            "79/79 [==============================] - 5s 69ms/step - loss: 0.4203 - accuracy: 0.8116 - val_loss: 0.4352 - val_accuracy: 0.8034\n",
            "Epoch 75/100\n",
            "79/79 [==============================] - 5s 69ms/step - loss: 0.4200 - accuracy: 0.8119 - val_loss: 0.4376 - val_accuracy: 0.7952\n",
            "Epoch 76/100\n",
            "79/79 [==============================] - 6s 78ms/step - loss: 0.4215 - accuracy: 0.8110 - val_loss: 0.4339 - val_accuracy: 0.8012\n",
            "Epoch 77/100\n",
            "79/79 [==============================] - 5s 63ms/step - loss: 0.4209 - accuracy: 0.8110 - val_loss: 0.4362 - val_accuracy: 0.7940\n",
            "Epoch 78/100\n",
            "79/79 [==============================] - 6s 78ms/step - loss: 0.4171 - accuracy: 0.8130 - val_loss: 0.4330 - val_accuracy: 0.8036\n",
            "Epoch 79/100\n",
            "79/79 [==============================] - 6s 70ms/step - loss: 0.4185 - accuracy: 0.8104 - val_loss: 0.4329 - val_accuracy: 0.8040\n",
            "Epoch 80/100\n",
            "79/79 [==============================] - 6s 81ms/step - loss: 0.4176 - accuracy: 0.8131 - val_loss: 0.4322 - val_accuracy: 0.8014\n",
            "Epoch 81/100\n",
            "79/79 [==============================] - 5s 66ms/step - loss: 0.4168 - accuracy: 0.8147 - val_loss: 0.4332 - val_accuracy: 0.8048\n",
            "Epoch 82/100\n",
            "79/79 [==============================] - 6s 75ms/step - loss: 0.4199 - accuracy: 0.8101 - val_loss: 0.4327 - val_accuracy: 0.8050\n",
            "Epoch 83/100\n",
            "79/79 [==============================] - 5s 69ms/step - loss: 0.4176 - accuracy: 0.8110 - val_loss: 0.4322 - val_accuracy: 0.8004\n"
          ]
        }
      ]
    },
    {
      "cell_type": "code",
      "source": [
        "plt.plot(history.history['loss'])\n",
        "plt.plot(history.history['val_loss'])\n",
        "plt.xlabel('epoch')\n",
        "plt.ylabel('loss')\n",
        "plt.legend(['train', 'val'])\n",
        "plt.show()"
      ],
      "metadata": {
        "colab": {
          "base_uri": "https://localhost:8080/",
          "height": 449
        },
        "id": "dVgNhOlklKjR",
        "outputId": "119a22b3-3785-4894-ba15-82aa34f89cbe"
      },
      "execution_count": 9,
      "outputs": [
        {
          "output_type": "display_data",
          "data": {
            "text/plain": [
              "<Figure size 640x480 with 1 Axes>"
            ],
            "image/png": "[encoded data removed]"
          },
          "metadata": {}
        }
      ]
    },
    {
      "cell_type": "code",
      "source": [
        "model3 = keras.Sequential()\n",
        "model3.add(keras.layers.Embedding(500, 16, input_length=100))\n",
        "model3.add(keras.layers.LSTM(8, dropout=0.3, return_sequences=True))\n",
        "model3.add(keras.layers.LSTM(8, dropout=0.3))\n",
        "model3.add(keras.layers.Dense(1, activation='sigmoid'))"
      ],
      "metadata": {
        "id": "4w5TTZucm34P"
      },
      "execution_count": 10,
      "outputs": []
    },
    {
      "cell_type": "code",
      "source": [
        "model3.summary()"
      ],
      "metadata": {
        "colab": {
          "base_uri": "https://localhost:8080/"
        },
        "id": "ViwG-7Ronccv",
        "outputId": "1a1942a2-4060-4486-a8e2-817dff4792a3"
      },
      "execution_count": 11,
      "outputs": [
        {
          "output_type": "stream",
          "name": "stdout",
          "text": [
            "Model: \"sequential_2\"\n",
            "_________________________________________________________________\n",
            " Layer (type)                Output Shape              Param #   \n",
            "=================================================================\n",
            " embedding_2 (Embedding)     (None, 100, 16)           8000      \n",
            "                                                                 \n",
            " lstm_2 (LSTM)               (None, 100, 8)            800       \n",
            "                                                                 \n",
            " lstm_3 (LSTM)               (None, 8)                 544       \n",
            "                                                                 \n",
            " dense_2 (Dense)             (None, 1)                 9         \n",
            "                                                                 \n",
            "=================================================================\n",
            "Total params: 9353 (36.54 KB)\n",
            "Trainable params: 9353 (36.54 KB)\n",
            "Non-trainable params: 0 (0.00 Byte)\n",
            "_________________________________________________________________\n"
          ]
        }
      ]
    },
    {
      "cell_type": "code",
      "source": [
        "rmsprop = keras.optimizers.RMSprop(learning_rate=1e-4)\n",
        "model3.compile(optimizer=rmsprop, loss='binary_crossentropy', metrics=['accuracy'])\n",
        "checkpoint_cb = keras.callbacks.ModelCheckpoint('best-2rnn-model.h5', save_best_only=True)\n",
        "early_stopping_cb = keras.callbacks.EarlyStopping(patience=3, restore_best_weights=True)\n",
        "history = model3.fit(train_seq, train_target, epochs=100, batch_size=256, validation_data=(val_seq, val_target), callbacks=[checkpoint_cb, early_stopping_cb]) # 교재에서는 배치사이즈 64"
      ],
      "metadata": {
        "colab": {
          "base_uri": "https://localhost:8080/"
        },
        "id": "KneqNDcnneUw",
        "outputId": "951d6dde-2077-4673-e559-1c53f3ebae80"
      },
      "execution_count": 12,
      "outputs": [
        {
          "output_type": "stream",
          "name": "stdout",
          "text": [
            "Epoch 1/100\n",
            "79/79 [==============================] - 16s 153ms/step - loss: 0.6931 - accuracy: 0.5058 - val_loss: 0.6931 - val_accuracy: 0.5096\n",
            "Epoch 2/100\n",
            "79/79 [==============================] - 10s 128ms/step - loss: 0.6930 - accuracy: 0.5102 - val_loss: 0.6931 - val_accuracy: 0.5054\n",
            "Epoch 3/100\n",
            "79/79 [==============================] - 9s 119ms/step - loss: 0.6930 - accuracy: 0.5092 - val_loss: 0.6930 - val_accuracy: 0.5108\n",
            "Epoch 4/100\n",
            "79/79 [==============================] - 10s 128ms/step - loss: 0.6928 - accuracy: 0.5128 - val_loss: 0.6928 - val_accuracy: 0.5222\n",
            "Epoch 5/100\n",
            "79/79 [==============================] - 10s 128ms/step - loss: 0.6927 - accuracy: 0.5189 - val_loss: 0.6927 - val_accuracy: 0.5206\n",
            "Epoch 6/100\n",
            "79/79 [==============================] - 10s 131ms/step - loss: 0.6925 - accuracy: 0.5239 - val_loss: 0.6925 - val_accuracy: 0.5334\n",
            "Epoch 7/100\n",
            "79/79 [==============================] - 10s 122ms/step - loss: 0.6923 - accuracy: 0.5438 - val_loss: 0.6922 - val_accuracy: 0.5254\n",
            "Epoch 8/100\n",
            "79/79 [==============================] - 10s 120ms/step - loss: 0.6918 - accuracy: 0.5475 - val_loss: 0.6915 - val_accuracy: 0.5632\n",
            "Epoch 9/100\n",
            "79/79 [==============================] - 10s 132ms/step - loss: 0.6909 - accuracy: 0.5660 - val_loss: 0.6902 - val_accuracy: 0.6068\n",
            "Epoch 10/100\n",
            "79/79 [==============================] - 10s 130ms/step - loss: 0.6891 - accuracy: 0.6050 - val_loss: 0.6878 - val_accuracy: 0.6202\n",
            "Epoch 11/100\n",
            "79/79 [==============================] - 11s 134ms/step - loss: 0.6852 - accuracy: 0.6230 - val_loss: 0.6818 - val_accuracy: 0.6426\n",
            "Epoch 12/100\n",
            "79/79 [==============================] - 9s 117ms/step - loss: 0.6769 - accuracy: 0.6413 - val_loss: 0.6702 - val_accuracy: 0.6594\n",
            "Epoch 13/100\n",
            "79/79 [==============================] - 11s 134ms/step - loss: 0.6627 - accuracy: 0.6568 - val_loss: 0.6532 - val_accuracy: 0.6696\n",
            "Epoch 14/100\n",
            "79/79 [==============================] - 10s 131ms/step - loss: 0.6460 - accuracy: 0.6714 - val_loss: 0.6360 - val_accuracy: 0.6794\n",
            "Epoch 15/100\n",
            "79/79 [==============================] - 11s 134ms/step - loss: 0.6299 - accuracy: 0.6803 - val_loss: 0.6201 - val_accuracy: 0.6906\n",
            "Epoch 16/100\n",
            "79/79 [==============================] - 10s 127ms/step - loss: 0.6145 - accuracy: 0.6945 - val_loss: 0.6061 - val_accuracy: 0.6998\n",
            "Epoch 17/100\n",
            "79/79 [==============================] - 10s 125ms/step - loss: 0.5985 - accuracy: 0.7060 - val_loss: 0.5904 - val_accuracy: 0.7100\n",
            "Epoch 18/100\n",
            "79/79 [==============================] - 10s 131ms/step - loss: 0.5868 - accuracy: 0.7123 - val_loss: 0.5802 - val_accuracy: 0.7162\n",
            "Epoch 19/100\n",
            "79/79 [==============================] - 10s 131ms/step - loss: 0.5742 - accuracy: 0.7248 - val_loss: 0.5662 - val_accuracy: 0.7268\n",
            "Epoch 20/100\n",
            "79/79 [==============================] - 10s 132ms/step - loss: 0.5636 - accuracy: 0.7316 - val_loss: 0.5589 - val_accuracy: 0.7276\n",
            "Epoch 21/100\n",
            "79/79 [==============================] - 10s 123ms/step - loss: 0.5544 - accuracy: 0.7372 - val_loss: 0.5462 - val_accuracy: 0.7406\n",
            "Epoch 22/100\n",
            "79/79 [==============================] - 10s 122ms/step - loss: 0.5465 - accuracy: 0.7422 - val_loss: 0.5404 - val_accuracy: 0.7452\n",
            "Epoch 23/100\n",
            "79/79 [==============================] - 11s 140ms/step - loss: 0.5366 - accuracy: 0.7498 - val_loss: 0.5317 - val_accuracy: 0.7478\n",
            "Epoch 24/100\n",
            "79/79 [==============================] - 10s 130ms/step - loss: 0.5297 - accuracy: 0.7545 - val_loss: 0.5259 - val_accuracy: 0.7524\n",
            "Epoch 25/100\n",
            "79/79 [==============================] - 11s 134ms/step - loss: 0.5227 - accuracy: 0.7568 - val_loss: 0.5180 - val_accuracy: 0.7596\n",
            "Epoch 26/100\n",
            "79/79 [==============================] - 10s 125ms/step - loss: 0.5188 - accuracy: 0.7574 - val_loss: 0.5136 - val_accuracy: 0.7602\n",
            "Epoch 27/100\n",
            "79/79 [==============================] - 10s 123ms/step - loss: 0.5109 - accuracy: 0.7642 - val_loss: 0.5213 - val_accuracy: 0.7570\n",
            "Epoch 28/100\n",
            "79/79 [==============================] - 10s 131ms/step - loss: 0.5080 - accuracy: 0.7639 - val_loss: 0.5080 - val_accuracy: 0.7588\n",
            "Epoch 29/100\n",
            "79/79 [==============================] - 10s 131ms/step - loss: 0.5040 - accuracy: 0.7690 - val_loss: 0.4990 - val_accuracy: 0.7672\n",
            "Epoch 30/100\n",
            "79/79 [==============================] - 11s 135ms/step - loss: 0.4977 - accuracy: 0.7708 - val_loss: 0.5005 - val_accuracy: 0.7626\n",
            "Epoch 31/100\n",
            "79/79 [==============================] - 9s 114ms/step - loss: 0.4949 - accuracy: 0.7739 - val_loss: 0.4937 - val_accuracy: 0.7702\n",
            "Epoch 32/100\n",
            "79/79 [==============================] - 11s 134ms/step - loss: 0.4904 - accuracy: 0.7757 - val_loss: 0.4932 - val_accuracy: 0.7732\n",
            "Epoch 33/100\n",
            "79/79 [==============================] - 10s 130ms/step - loss: 0.4864 - accuracy: 0.7775 - val_loss: 0.4917 - val_accuracy: 0.7684\n",
            "Epoch 34/100\n",
            "79/79 [==============================] - 10s 133ms/step - loss: 0.4829 - accuracy: 0.7791 - val_loss: 0.4835 - val_accuracy: 0.7764\n",
            "Epoch 35/100\n",
            "79/79 [==============================] - 10s 126ms/step - loss: 0.4836 - accuracy: 0.7779 - val_loss: 0.4818 - val_accuracy: 0.7780\n",
            "Epoch 36/100\n",
            "79/79 [==============================] - 10s 121ms/step - loss: 0.4779 - accuracy: 0.7811 - val_loss: 0.4938 - val_accuracy: 0.7622\n",
            "Epoch 37/100\n",
            "79/79 [==============================] - 10s 130ms/step - loss: 0.4747 - accuracy: 0.7854 - val_loss: 0.4824 - val_accuracy: 0.7746\n",
            "Epoch 38/100\n",
            "79/79 [==============================] - 10s 130ms/step - loss: 0.4747 - accuracy: 0.7817 - val_loss: 0.4814 - val_accuracy: 0.7746\n",
            "Epoch 39/100\n",
            "79/79 [==============================] - 11s 137ms/step - loss: 0.4721 - accuracy: 0.7843 - val_loss: 0.4773 - val_accuracy: 0.7792\n",
            "Epoch 40/100\n",
            "79/79 [==============================] - 9s 114ms/step - loss: 0.4702 - accuracy: 0.7850 - val_loss: 0.4723 - val_accuracy: 0.7816\n",
            "Epoch 41/100\n",
            "79/79 [==============================] - 10s 130ms/step - loss: 0.4678 - accuracy: 0.7865 - val_loss: 0.4715 - val_accuracy: 0.7794\n",
            "Epoch 42/100\n",
            "79/79 [==============================] - 10s 130ms/step - loss: 0.4655 - accuracy: 0.7879 - val_loss: 0.4688 - val_accuracy: 0.7824\n",
            "Epoch 43/100\n",
            "79/79 [==============================] - 10s 130ms/step - loss: 0.4641 - accuracy: 0.7889 - val_loss: 0.4685 - val_accuracy: 0.7844\n",
            "Epoch 44/100\n",
            "79/79 [==============================] - 9s 120ms/step - loss: 0.4635 - accuracy: 0.7880 - val_loss: 0.4668 - val_accuracy: 0.7848\n",
            "Epoch 45/100\n",
            "79/79 [==============================] - 10s 121ms/step - loss: 0.4606 - accuracy: 0.7884 - val_loss: 0.4669 - val_accuracy: 0.7806\n",
            "Epoch 46/100\n",
            "79/79 [==============================] - 10s 130ms/step - loss: 0.4596 - accuracy: 0.7860 - val_loss: 0.4678 - val_accuracy: 0.7776\n",
            "Epoch 47/100\n",
            "79/79 [==============================] - 10s 132ms/step - loss: 0.4574 - accuracy: 0.7915 - val_loss: 0.4633 - val_accuracy: 0.7838\n",
            "Epoch 48/100\n",
            "79/79 [==============================] - 11s 139ms/step - loss: 0.4578 - accuracy: 0.7915 - val_loss: 0.4648 - val_accuracy: 0.7878\n",
            "Epoch 49/100\n",
            "79/79 [==============================] - 9s 113ms/step - loss: 0.4559 - accuracy: 0.7913 - val_loss: 0.4649 - val_accuracy: 0.7850\n",
            "Epoch 50/100\n",
            "79/79 [==============================] - 10s 131ms/step - loss: 0.4548 - accuracy: 0.7918 - val_loss: 0.4663 - val_accuracy: 0.7846\n"
          ]
        }
      ]
    },
    {
      "cell_type": "code",
      "source": [
        "plt.plot(history.history['loss'])\n",
        "plt.plot(history.history['val_loss'])\n",
        "plt.xlabel('epoch')\n",
        "plt.ylabel('loss')\n",
        "plt.legend(['train', 'val'])\n",
        "plt.show()"
      ],
      "metadata": {
        "colab": {
          "base_uri": "https://localhost:8080/",
          "height": 449
        },
        "id": "VneLSK3EowLl",
        "outputId": "9f316020-37d6-4743-b3ce-0e4c71f7b1fc"
      },
      "execution_count": 13,
      "outputs": [
        {
          "output_type": "display_data",
          "data": {
            "text/plain": [
              "<Figure size 640x480 with 1 Axes>"
            ],
            "image/png": "[encoded data removed]"
          },
          "metadata": {}
        }
      ]
    },
    {
      "cell_type": "code",
      "source": [
        "model4 = keras.Sequential()\n",
        "model4.add(keras.layers.Embedding(500, 16, input_length=100))\n",
        "model4.add(keras.layers.GRU(8))\n",
        "model4.add(keras.layers.Dense(1, activation='sigmoid'))"
      ],
      "metadata": {
        "id": "PAWoXpbQpAvZ"
      },
      "execution_count": 15,
      "outputs": []
    },
    {
      "cell_type": "code",
      "source": [
        "model4.summary()"
      ],
      "metadata": {
        "colab": {
          "base_uri": "https://localhost:8080/"
        },
        "id": "w8cQSKqop87n",
        "outputId": "d553bb8b-d539-4229-87d4-bc23512777ae"
      },
      "execution_count": 16,
      "outputs": [
        {
          "output_type": "stream",
          "name": "stdout",
          "text": [
            "Model: \"sequential_4\"\n",
            "_________________________________________________________________\n",
            " Layer (type)                Output Shape              Param #   \n",
            "=================================================================\n",
            " embedding_3 (Embedding)     (None, 100, 16)           8000      \n",
            "                                                                 \n",
            " gru (GRU)                   (None, 8)                 624       \n",
            "                                                                 \n",
            " dense_3 (Dense)             (None, 1)                 9         \n",
            "                                                                 \n",
            "=================================================================\n",
            "Total params: 8633 (33.72 KB)\n",
            "Trainable params: 8633 (33.72 KB)\n",
            "Non-trainable params: 0 (0.00 Byte)\n",
            "_________________________________________________________________\n"
          ]
        }
      ]
    },
    {
      "cell_type": "code",
      "source": [
        "rmsprop = keras.optimizers.RMSprop(learning_rate=1e-4)\n",
        "model4.compile(optimizer=rmsprop, loss='binary_crossentropy', metrics=['accuracy'])\n",
        "checkpoint_cb = keras.callbacks.ModelCheckpoint('best-gru-model.h5', save_best_only=True)\n",
        "early_stopping_cb = keras.callbacks.EarlyStopping(patience=3, restore_best_weights=True)\n",
        "history = model4.fit(train_seq, train_target, epochs=100, batch_size=256, validation_data=(val_seq, val_target), callbacks=[checkpoint_cb, early_stopping_cb]) # 교재에서는 배치사이즈 64"
      ],
      "metadata": {
        "colab": {
          "base_uri": "https://localhost:8080/"
        },
        "id": "layexh7NqAO9",
        "outputId": "8f0b06d0-f5cd-4ed3-f580-4329c1f7311c"
      },
      "execution_count": 17,
      "outputs": [
        {
          "output_type": "stream",
          "name": "stdout",
          "text": [
            "Epoch 1/100\n",
            "79/79 [==============================] - 9s 74ms/step - loss: 0.6928 - accuracy: 0.5189 - val_loss: 0.6928 - val_accuracy: 0.5330\n",
            "Epoch 2/100\n",
            " 2/79 [..............................] - ETA: 4s - loss: 0.6918 - accuracy: 0.5586"
          ]
        },
        {
          "output_type": "stream",
          "name": "stderr",
          "text": [
            "/usr/local/lib/python3.10/dist-packages/keras/src/engine/training.py:3000: UserWarning: You are saving your model as an HDF5 file via `model.save()`. This file format is considered legacy. We recommend using instead the native Keras format, e.g. `model.save('my_model.keras')`.\n",
            "  saving_api.save_model(\n"
          ]
        },
        {
          "output_type": "stream",
          "name": "stdout",
          "text": [
            "79/79 [==============================] - 6s 79ms/step - loss: 0.6922 - accuracy: 0.5408 - val_loss: 0.6922 - val_accuracy: 0.5382\n",
            "Epoch 3/100\n",
            "79/79 [==============================] - 5s 63ms/step - loss: 0.6915 - accuracy: 0.5543 - val_loss: 0.6916 - val_accuracy: 0.5498\n",
            "Epoch 4/100\n",
            "79/79 [==============================] - 6s 81ms/step - loss: 0.6908 - accuracy: 0.5645 - val_loss: 0.6909 - val_accuracy: 0.5606\n",
            "Epoch 5/100\n",
            "79/79 [==============================] - 5s 63ms/step - loss: 0.6900 - accuracy: 0.5741 - val_loss: 0.6901 - val_accuracy: 0.5638\n",
            "Epoch 6/100\n",
            "79/79 [==============================] - 6s 73ms/step - loss: 0.6890 - accuracy: 0.5810 - val_loss: 0.6892 - val_accuracy: 0.5690\n",
            "Epoch 7/100\n",
            "79/79 [==============================] - 5s 68ms/step - loss: 0.6880 - accuracy: 0.5847 - val_loss: 0.6881 - val_accuracy: 0.5724\n",
            "Epoch 8/100\n",
            "79/79 [==============================] - 5s 65ms/step - loss: 0.6868 - accuracy: 0.5900 - val_loss: 0.6871 - val_accuracy: 0.5754\n",
            "Epoch 9/100\n",
            "79/79 [==============================] - 6s 79ms/step - loss: 0.6854 - accuracy: 0.5914 - val_loss: 0.6858 - val_accuracy: 0.5768\n",
            "Epoch 10/100\n",
            "79/79 [==============================] - 5s 64ms/step - loss: 0.6839 - accuracy: 0.5929 - val_loss: 0.6843 - val_accuracy: 0.5790\n",
            "Epoch 11/100\n",
            "79/79 [==============================] - 6s 78ms/step - loss: 0.6823 - accuracy: 0.5980 - val_loss: 0.6828 - val_accuracy: 0.5826\n",
            "Epoch 12/100\n",
            "79/79 [==============================] - 5s 67ms/step - loss: 0.6805 - accuracy: 0.5983 - val_loss: 0.6810 - val_accuracy: 0.5876\n",
            "Epoch 13/100\n",
            "79/79 [==============================] - 6s 72ms/step - loss: 0.6785 - accuracy: 0.6019 - val_loss: 0.6793 - val_accuracy: 0.5886\n",
            "Epoch 14/100\n",
            "79/79 [==============================] - 5s 67ms/step - loss: 0.6763 - accuracy: 0.6040 - val_loss: 0.6773 - val_accuracy: 0.5920\n",
            "Epoch 15/100\n",
            "79/79 [==============================] - 5s 61ms/step - loss: 0.6740 - accuracy: 0.6101 - val_loss: 0.6750 - val_accuracy: 0.5908\n",
            "Epoch 16/100\n",
            "79/79 [==============================] - 6s 78ms/step - loss: 0.6715 - accuracy: 0.6119 - val_loss: 0.6728 - val_accuracy: 0.5928\n",
            "Epoch 17/100\n",
            "79/79 [==============================] - 5s 64ms/step - loss: 0.6688 - accuracy: 0.6146 - val_loss: 0.6701 - val_accuracy: 0.5952\n",
            "Epoch 18/100\n",
            "79/79 [==============================] - 6s 79ms/step - loss: 0.6658 - accuracy: 0.6177 - val_loss: 0.6676 - val_accuracy: 0.5988\n",
            "Epoch 19/100\n",
            "79/79 [==============================] - 5s 64ms/step - loss: 0.6626 - accuracy: 0.6216 - val_loss: 0.6647 - val_accuracy: 0.6010\n",
            "Epoch 20/100\n",
            "79/79 [==============================] - 5s 64ms/step - loss: 0.6592 - accuracy: 0.6261 - val_loss: 0.6617 - val_accuracy: 0.6080\n",
            "Epoch 21/100\n",
            "79/79 [==============================] - 6s 77ms/step - loss: 0.6556 - accuracy: 0.6302 - val_loss: 0.6582 - val_accuracy: 0.6138\n",
            "Epoch 22/100\n",
            "79/79 [==============================] - 5s 63ms/step - loss: 0.6516 - accuracy: 0.6337 - val_loss: 0.6545 - val_accuracy: 0.6190\n",
            "Epoch 23/100\n",
            "79/79 [==============================] - 6s 78ms/step - loss: 0.6473 - accuracy: 0.6372 - val_loss: 0.6507 - val_accuracy: 0.6240\n",
            "Epoch 24/100\n",
            "79/79 [==============================] - 5s 62ms/step - loss: 0.6427 - accuracy: 0.6420 - val_loss: 0.6463 - val_accuracy: 0.6282\n",
            "Epoch 25/100\n",
            "79/79 [==============================] - 6s 75ms/step - loss: 0.6377 - accuracy: 0.6456 - val_loss: 0.6419 - val_accuracy: 0.6334\n",
            "Epoch 26/100\n",
            "79/79 [==============================] - 5s 61ms/step - loss: 0.6321 - accuracy: 0.6518 - val_loss: 0.6368 - val_accuracy: 0.6382\n",
            "Epoch 27/100\n",
            "79/79 [==============================] - 5s 62ms/step - loss: 0.6262 - accuracy: 0.6596 - val_loss: 0.6312 - val_accuracy: 0.6460\n",
            "Epoch 28/100\n",
            "79/79 [==============================] - 6s 77ms/step - loss: 0.6196 - accuracy: 0.6646 - val_loss: 0.6248 - val_accuracy: 0.6512\n",
            "Epoch 29/100\n",
            "79/79 [==============================] - 5s 63ms/step - loss: 0.6123 - accuracy: 0.6711 - val_loss: 0.6178 - val_accuracy: 0.6580\n",
            "Epoch 30/100\n",
            "79/79 [==============================] - 6s 78ms/step - loss: 0.6043 - accuracy: 0.6758 - val_loss: 0.6103 - val_accuracy: 0.6662\n",
            "Epoch 31/100\n",
            "79/79 [==============================] - 5s 64ms/step - loss: 0.5951 - accuracy: 0.6852 - val_loss: 0.6014 - val_accuracy: 0.6760\n",
            "Epoch 32/100\n",
            "79/79 [==============================] - 6s 71ms/step - loss: 0.5847 - accuracy: 0.6939 - val_loss: 0.5911 - val_accuracy: 0.6852\n",
            "Epoch 33/100\n",
            "79/79 [==============================] - 6s 71ms/step - loss: 0.5723 - accuracy: 0.7042 - val_loss: 0.5789 - val_accuracy: 0.6962\n",
            "Epoch 34/100\n",
            "79/79 [==============================] - 5s 69ms/step - loss: 0.5580 - accuracy: 0.7159 - val_loss: 0.5653 - val_accuracy: 0.7114\n",
            "Epoch 35/100\n",
            "79/79 [==============================] - 6s 79ms/step - loss: 0.5406 - accuracy: 0.7304 - val_loss: 0.5474 - val_accuracy: 0.7262\n",
            "Epoch 36/100\n",
            "79/79 [==============================] - 5s 65ms/step - loss: 0.5210 - accuracy: 0.7450 - val_loss: 0.5324 - val_accuracy: 0.7424\n",
            "Epoch 37/100\n",
            "79/79 [==============================] - 6s 78ms/step - loss: 0.5062 - accuracy: 0.7572 - val_loss: 0.5207 - val_accuracy: 0.7484\n",
            "Epoch 38/100\n",
            "79/79 [==============================] - 5s 68ms/step - loss: 0.4970 - accuracy: 0.7648 - val_loss: 0.5143 - val_accuracy: 0.7506\n",
            "Epoch 39/100\n",
            "79/79 [==============================] - 6s 73ms/step - loss: 0.4903 - accuracy: 0.7671 - val_loss: 0.5076 - val_accuracy: 0.7546\n",
            "Epoch 40/100\n",
            "79/79 [==============================] - 6s 70ms/step - loss: 0.4840 - accuracy: 0.7720 - val_loss: 0.5020 - val_accuracy: 0.7596\n",
            "Epoch 41/100\n",
            "79/79 [==============================] - 5s 64ms/step - loss: 0.4791 - accuracy: 0.7747 - val_loss: 0.4982 - val_accuracy: 0.7660\n",
            "Epoch 42/100\n",
            "79/79 [==============================] - 6s 80ms/step - loss: 0.4742 - accuracy: 0.7785 - val_loss: 0.4949 - val_accuracy: 0.7680\n",
            "Epoch 43/100\n",
            "79/79 [==============================] - 5s 63ms/step - loss: 0.4696 - accuracy: 0.7802 - val_loss: 0.4901 - val_accuracy: 0.7672\n",
            "Epoch 44/100\n",
            "79/79 [==============================] - 6s 80ms/step - loss: 0.4656 - accuracy: 0.7832 - val_loss: 0.4871 - val_accuracy: 0.7700\n",
            "Epoch 45/100\n",
            "79/79 [==============================] - 5s 63ms/step - loss: 0.4620 - accuracy: 0.7853 - val_loss: 0.4843 - val_accuracy: 0.7716\n",
            "Epoch 46/100\n",
            "79/79 [==============================] - 6s 78ms/step - loss: 0.4585 - accuracy: 0.7891 - val_loss: 0.4805 - val_accuracy: 0.7776\n",
            "Epoch 47/100\n",
            "79/79 [==============================] - 5s 66ms/step - loss: 0.4552 - accuracy: 0.7901 - val_loss: 0.4779 - val_accuracy: 0.7802\n",
            "Epoch 48/100\n",
            "79/79 [==============================] - 5s 63ms/step - loss: 0.4521 - accuracy: 0.7921 - val_loss: 0.4780 - val_accuracy: 0.7752\n",
            "Epoch 49/100\n",
            "79/79 [==============================] - 6s 79ms/step - loss: 0.4492 - accuracy: 0.7940 - val_loss: 0.4737 - val_accuracy: 0.7846\n",
            "Epoch 50/100\n",
            "79/79 [==============================] - 5s 64ms/step - loss: 0.4469 - accuracy: 0.7951 - val_loss: 0.4718 - val_accuracy: 0.7836\n",
            "Epoch 51/100\n",
            "79/79 [==============================] - 6s 80ms/step - loss: 0.4442 - accuracy: 0.7973 - val_loss: 0.4713 - val_accuracy: 0.7810\n",
            "Epoch 52/100\n",
            "79/79 [==============================] - 5s 64ms/step - loss: 0.4420 - accuracy: 0.8003 - val_loss: 0.4694 - val_accuracy: 0.7910\n",
            "Epoch 53/100\n",
            "79/79 [==============================] - 6s 77ms/step - loss: 0.4403 - accuracy: 0.8011 - val_loss: 0.4669 - val_accuracy: 0.7910\n",
            "Epoch 54/100\n",
            "79/79 [==============================] - 5s 67ms/step - loss: 0.4383 - accuracy: 0.8019 - val_loss: 0.4649 - val_accuracy: 0.7826\n",
            "Epoch 55/100\n",
            "79/79 [==============================] - 5s 62ms/step - loss: 0.4362 - accuracy: 0.8023 - val_loss: 0.4645 - val_accuracy: 0.7814\n",
            "Epoch 56/100\n",
            "79/79 [==============================] - 6s 78ms/step - loss: 0.4346 - accuracy: 0.8048 - val_loss: 0.4609 - val_accuracy: 0.7886\n",
            "Epoch 57/100\n",
            "79/79 [==============================] - 5s 66ms/step - loss: 0.4332 - accuracy: 0.8053 - val_loss: 0.4612 - val_accuracy: 0.7852\n",
            "Epoch 58/100\n",
            "79/79 [==============================] - 6s 81ms/step - loss: 0.4317 - accuracy: 0.8071 - val_loss: 0.4578 - val_accuracy: 0.7932\n",
            "Epoch 59/100\n",
            "79/79 [==============================] - 5s 65ms/step - loss: 0.4303 - accuracy: 0.8084 - val_loss: 0.4591 - val_accuracy: 0.7872\n",
            "Epoch 60/100\n",
            "79/79 [==============================] - 6s 76ms/step - loss: 0.4290 - accuracy: 0.8098 - val_loss: 0.4560 - val_accuracy: 0.7900\n",
            "Epoch 61/100\n",
            "79/79 [==============================] - 5s 66ms/step - loss: 0.4277 - accuracy: 0.8103 - val_loss: 0.4556 - val_accuracy: 0.7910\n",
            "Epoch 62/100\n",
            "79/79 [==============================] - 5s 65ms/step - loss: 0.4266 - accuracy: 0.8109 - val_loss: 0.4568 - val_accuracy: 0.7890\n",
            "Epoch 63/100\n",
            "79/79 [==============================] - 6s 79ms/step - loss: 0.4257 - accuracy: 0.8116 - val_loss: 0.4531 - val_accuracy: 0.7946\n",
            "Epoch 64/100\n",
            "79/79 [==============================] - 5s 65ms/step - loss: 0.4248 - accuracy: 0.8117 - val_loss: 0.4522 - val_accuracy: 0.7960\n",
            "Epoch 65/100\n",
            "79/79 [==============================] - 6s 81ms/step - loss: 0.4238 - accuracy: 0.8123 - val_loss: 0.4514 - val_accuracy: 0.7932\n",
            "Epoch 66/100\n",
            "79/79 [==============================] - 5s 61ms/step - loss: 0.4229 - accuracy: 0.8133 - val_loss: 0.4516 - val_accuracy: 0.7940\n",
            "Epoch 67/100\n",
            "79/79 [==============================] - 6s 72ms/step - loss: 0.4221 - accuracy: 0.8127 - val_loss: 0.4506 - val_accuracy: 0.7934\n",
            "Epoch 68/100\n",
            "79/79 [==============================] - 6s 70ms/step - loss: 0.4215 - accuracy: 0.8134 - val_loss: 0.4497 - val_accuracy: 0.7944\n",
            "Epoch 69/100\n",
            "79/79 [==============================] - 5s 64ms/step - loss: 0.4204 - accuracy: 0.8140 - val_loss: 0.4526 - val_accuracy: 0.7924\n",
            "Epoch 70/100\n",
            "79/79 [==============================] - 6s 81ms/step - loss: 0.4200 - accuracy: 0.8136 - val_loss: 0.4484 - val_accuracy: 0.7936\n",
            "Epoch 71/100\n",
            "79/79 [==============================] - 5s 64ms/step - loss: 0.4195 - accuracy: 0.8138 - val_loss: 0.4516 - val_accuracy: 0.7928\n",
            "Epoch 72/100\n",
            "79/79 [==============================] - 7s 84ms/step - loss: 0.4190 - accuracy: 0.8159 - val_loss: 0.4478 - val_accuracy: 0.7944\n",
            "Epoch 73/100\n",
            "79/79 [==============================] - 5s 66ms/step - loss: 0.4182 - accuracy: 0.8148 - val_loss: 0.4479 - val_accuracy: 0.7946\n",
            "Epoch 74/100\n",
            "79/79 [==============================] - 6s 79ms/step - loss: 0.4181 - accuracy: 0.8145 - val_loss: 0.4478 - val_accuracy: 0.7946\n",
            "Epoch 75/100\n",
            "79/79 [==============================] - 5s 65ms/step - loss: 0.4173 - accuracy: 0.8159 - val_loss: 0.4459 - val_accuracy: 0.7952\n",
            "Epoch 76/100\n",
            "79/79 [==============================] - 5s 64ms/step - loss: 0.4170 - accuracy: 0.8157 - val_loss: 0.4455 - val_accuracy: 0.7950\n",
            "Epoch 77/100\n",
            "79/79 [==============================] - 6s 81ms/step - loss: 0.4163 - accuracy: 0.8156 - val_loss: 0.4455 - val_accuracy: 0.7952\n",
            "Epoch 78/100\n",
            "79/79 [==============================] - 5s 64ms/step - loss: 0.4161 - accuracy: 0.8163 - val_loss: 0.4477 - val_accuracy: 0.7932\n",
            "Epoch 79/100\n",
            "79/79 [==============================] - 6s 80ms/step - loss: 0.4154 - accuracy: 0.8167 - val_loss: 0.4455 - val_accuracy: 0.7954\n",
            "Epoch 80/100\n",
            "79/79 [==============================] - 5s 65ms/step - loss: 0.4152 - accuracy: 0.8162 - val_loss: 0.4443 - val_accuracy: 0.7976\n",
            "Epoch 81/100\n",
            "79/79 [==============================] - 6s 77ms/step - loss: 0.4147 - accuracy: 0.8158 - val_loss: 0.4472 - val_accuracy: 0.7926\n",
            "Epoch 82/100\n",
            "79/79 [==============================] - 5s 64ms/step - loss: 0.4146 - accuracy: 0.8168 - val_loss: 0.4461 - val_accuracy: 0.7946\n",
            "Epoch 83/100\n",
            "79/79 [==============================] - 5s 69ms/step - loss: 0.4142 - accuracy: 0.8172 - val_loss: 0.4460 - val_accuracy: 0.7954\n"
          ]
        }
      ]
    },
    {
      "cell_type": "code",
      "source": [
        "plt.plot(history.history['loss'])\n",
        "plt.plot(history.history['val_loss'])\n",
        "plt.xlabel('epoch')\n",
        "plt.ylabel('loss')\n",
        "plt.legend(['train', 'val'])\n",
        "plt.show()"
      ],
      "metadata": {
        "colab": {
          "base_uri": "https://localhost:8080/",
          "height": 449
        },
        "id": "tWXzWVpWqvfQ",
        "outputId": "3940c548-3ad0-402a-8f45-3eeacad31323"
      },
      "execution_count": 18,
      "outputs": [
        {
          "output_type": "display_data",
          "data": {
            "text/plain": [
              "<Figure size 640x480 with 1 Axes>"
            ],
            "image/png": "[encoded data removed]"
          },
          "metadata": {}
        }
      ]
    },
    {
      "cell_type": "code",
      "source": [],
      "metadata": {
        "id": "JlsDhFFEq1J0"
      },
      "execution_count": 18,
      "outputs": []
    }
  ]
}